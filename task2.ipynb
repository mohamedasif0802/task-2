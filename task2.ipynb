{
 "cells": [
  {
   "cell_type": "code",
   "execution_count": null,
   "id": "0c08f025-caa7-4e9e-9f61-2b1943125c67",
   "metadata": {},
   "outputs": [],
   "source": [
    "import cv2\n",
    "import numpy as np\n",
    "\n",
    "# Load the original image\n",
    "image = cv2.imread('vijaysethu1.jpg')\n",
    "\n",
    "# Step 1: Convert the image to grayscale\n",
    "gray = cv2.cvtColor(image, cv2.COLOR_BGR2GRAY)\n",
    "\n",
    "# Step 2: Apply a median blur to the grayscale image\n",
    "gray_blur = cv2.medianBlur(gray, 5)\n",
    "\n",
    "# Step 3: Use adaptive thresholding to create an edge mask\n",
    "edges = cv2.adaptiveThreshold(gray_blur, 255, cv2.ADAPTIVE_THRESH_MEAN_C, cv2.THRESH_BINARY, 11, 11)\n",
    "\n",
    "# Step 4: Apply bilateral filtering to the original image\n",
    "color = cv2.bilateralFilter(image, 3, 300, 300)\n",
    "\n",
    "# Step 5: Combine the edge mask with the filtered image\n",
    "cartoon = cv2.bitwise_and(color, color, mask=edges)\n",
    "\n",
    "# Display the original and cartoon images\n",
    "cv2.imshow('Original Image', image)\n",
    "cv2.imshow('Cartoon Image', cartoon)\n",
    "\n",
    "# Save the cartoon image\n",
    "cv2.imwrite('cartoon_image.jpg', cartoon)\n",
    "\n",
    "# Wait until a key is pressed, then close the windows\n",
    "cv2.waitKey(0)\n",
    "cv2.destroyAllWindows()\n"
   ]
  },
  {
   "cell_type": "code",
   "execution_count": null,
   "id": "c80c069d-26d6-4bc2-9e30-791558cd8382",
   "metadata": {},
   "outputs": [],
   "source": []
  },
  {
   "cell_type": "code",
   "execution_count": null,
   "id": "f57cd4a5-c105-4f75-9b3f-243812a9d389",
   "metadata": {},
   "outputs": [],
   "source": []
  }
 ],
 "metadata": {
  "kernelspec": {
   "display_name": "Python 3 (ipykernel)",
   "language": "python",
   "name": "python3"
  },
  "language_info": {
   "codemirror_mode": {
    "name": "ipython",
    "version": 3
   },
   "file_extension": ".py",
   "mimetype": "text/x-python",
   "name": "python",
   "nbconvert_exporter": "python",
   "pygments_lexer": "ipython3",
   "version": "3.11.9"
  }
 },
 "nbformat": 4,
 "nbformat_minor": 5
}
